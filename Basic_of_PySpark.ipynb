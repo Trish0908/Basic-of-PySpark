{
  "nbformat": 4,
  "nbformat_minor": 0,
  "metadata": {
    "colab": {
      "name": "Basic of PySpark.ipynb",
      "provenance": [],
      "collapsed_sections": []
    },
    "kernelspec": {
      "name": "python3",
      "display_name": "Python 3"
    }
  },
  "cells": [
    {
      "cell_type": "markdown",
      "metadata": {
        "id": "JbZwFKAeJyzj"
      },
      "source": [
        "Checking Java Version"
      ]
    },
    {
      "cell_type": "code",
      "metadata": {
        "colab": {
          "base_uri": "https://localhost:8080/"
        },
        "id": "ewD83pMMJnQY",
        "outputId": "de3f97da-7577-41ac-b7e9-0aec3f3e59ee"
      },
      "source": [
        "!java -version"
      ],
      "execution_count": null,
      "outputs": [
        {
          "output_type": "stream",
          "text": [
            "openjdk version \"11.0.9.1\" 2020-11-04\n",
            "OpenJDK Runtime Environment (build 11.0.9.1+1-Ubuntu-0ubuntu1.18.04)\n",
            "OpenJDK 64-Bit Server VM (build 11.0.9.1+1-Ubuntu-0ubuntu1.18.04, mixed mode, sharing)\n"
          ],
          "name": "stdout"
        }
      ]
    },
    {
      "cell_type": "markdown",
      "metadata": {
        "id": "oqM2HwGMJ7pD"
      },
      "source": [
        "Setting Java 8 environment "
      ]
    },
    {
      "cell_type": "code",
      "metadata": {
        "id": "MVtIjj0dJ5bP"
      },
      "source": [
        "!apt-get install openjdk-8-jdk-headless -qq > /dev/null"
      ],
      "execution_count": null,
      "outputs": []
    },
    {
      "cell_type": "markdown",
      "metadata": {
        "id": "f9-idEUyKIcT"
      },
      "source": [
        "Downloading Spark"
      ]
    },
    {
      "cell_type": "code",
      "metadata": {
        "id": "mpDk5qNvKERI"
      },
      "source": [
        "!wget -q http://apache.osuosl.org/spark/spark-3.0.1/spark-3.0.1-bin-hadoop3.2.tgz"
      ],
      "execution_count": null,
      "outputs": []
    },
    {
      "cell_type": "markdown",
      "metadata": {
        "id": "c6rGOkX8LJmY"
      },
      "source": [
        "Extracting Spark Files"
      ]
    },
    {
      "cell_type": "code",
      "metadata": {
        "id": "t7u9SPdULAnQ"
      },
      "source": [
        "!tar xf spark-3.0.1-bin-hadoop3.2.tgz"
      ],
      "execution_count": null,
      "outputs": []
    },
    {
      "cell_type": "markdown",
      "metadata": {
        "id": "LtoOYQg2LXkx"
      },
      "source": [
        "Installing FindSpark"
      ]
    },
    {
      "cell_type": "code",
      "metadata": {
        "id": "XsvrSlGhLVac"
      },
      "source": [
        "!pip install -q findspark"
      ],
      "execution_count": null,
      "outputs": []
    },
    {
      "cell_type": "markdown",
      "metadata": {
        "id": "h2gVuUnFLgd7"
      },
      "source": [
        "Setting up Home environment"
      ]
    },
    {
      "cell_type": "code",
      "metadata": {
        "id": "yNwlQdQqLfwz"
      },
      "source": [
        "import os\r\n",
        "os.environ[\"JAVA_HOME\"] = \"/usr/lib/jvm/java-8-openjdk-amd64\"\r\n",
        "os.environ[\"SPARK_HOME\"] = \"/content/spark-3.0.1-bin-hadoop3.2\""
      ],
      "execution_count": null,
      "outputs": []
    },
    {
      "cell_type": "markdown",
      "metadata": {
        "id": "HsZudz-ZL7dY"
      },
      "source": [
        "Creating Spark Session"
      ]
    },
    {
      "cell_type": "code",
      "metadata": {
        "id": "V5V9FskCL6kz"
      },
      "source": [
        "import findspark\r\n",
        "findspark.init()\r\n",
        "from pyspark.sql import SparkSession\r\n",
        "spark = SparkSession.builder.master(\"local[*]\").getOrCreate()"
      ],
      "execution_count": null,
      "outputs": []
    },
    {
      "cell_type": "markdown",
      "metadata": {
        "id": "cIrMxpj5QV5Q"
      },
      "source": [
        "Stopping the session"
      ]
    },
    {
      "cell_type": "code",
      "metadata": {
        "id": "vN6mHlCoMVMY"
      },
      "source": [
        "spark.stop()"
      ],
      "execution_count": null,
      "outputs": []
    },
    {
      "cell_type": "markdown",
      "metadata": {
        "id": "utUNPWLnQcAA"
      },
      "source": [
        "Check the pyspark version"
      ]
    },
    {
      "cell_type": "code",
      "metadata": {
        "colab": {
          "base_uri": "https://localhost:8080/"
        },
        "id": "k0FAjN-WQgkV",
        "outputId": "be00fe3a-2c91-4c6a-b3a6-244a01916daa"
      },
      "source": [
        "import pyspark\r\n",
        "print(pyspark.__version__)"
      ],
      "execution_count": null,
      "outputs": [
        {
          "output_type": "stream",
          "text": [
            "3.0.1\n"
          ],
          "name": "stdout"
        }
      ]
    },
    {
      "cell_type": "markdown",
      "metadata": {
        "id": "hs9ataklRmF2"
      },
      "source": [
        "# First Spark Job"
      ]
    },
    {
      "cell_type": "markdown",
      "metadata": {
        "id": "F3a-IpUFRra0"
      },
      "source": [
        "Importing Pyspark"
      ]
    },
    {
      "cell_type": "code",
      "metadata": {
        "id": "nWlDVMXjQ2op"
      },
      "source": [
        "from pyspark import SparkConf\r\n",
        "from pyspark import SparkContext\r\n",
        "conf = SparkConf()\r\n",
        "conf.setMaster('local')\r\n",
        "conf.setAppName('spark-basis')\r\n",
        "sc = SparkContext(conf=conf)"
      ],
      "execution_count": null,
      "outputs": []
    },
    {
      "cell_type": "markdown",
      "metadata": {
        "id": "XJnsPVssSKye"
      },
      "source": [
        "Function to calculate mod"
      ]
    },
    {
      "cell_type": "code",
      "metadata": {
        "id": "MQCGf0Q_R4OF"
      },
      "source": [
        "def mod(x):\r\n",
        "  import numpy as np\r\n",
        "  return (x, np.mod(x, 2))"
      ],
      "execution_count": null,
      "outputs": []
    },
    {
      "cell_type": "markdown",
      "metadata": {
        "id": "B8plck0KSV-9"
      },
      "source": [
        "Creating an RDD"
      ]
    },
    {
      "cell_type": "code",
      "metadata": {
        "colab": {
          "base_uri": "https://localhost:8080/"
        },
        "id": "rQYAJSsySUNX",
        "outputId": "29d9615a-f324-495b-aab0-ecc5cbe7e333"
      },
      "source": [
        "rdd = sc.parallelize(range(1000)).map(mod).take(10)\r\n",
        "print(rdd)"
      ],
      "execution_count": null,
      "outputs": [
        {
          "output_type": "stream",
          "text": [
            "[(0, 0), (1, 1), (2, 0), (3, 1), (4, 0), (5, 1), (6, 0), (7, 1), (8, 0), (9, 1)]\n"
          ],
          "name": "stdout"
        }
      ]
    },
    {
      "cell_type": "markdown",
      "metadata": {
        "id": "XWwxdZoRSlZh"
      },
      "source": [
        "Creating an RDD using list"
      ]
    },
    {
      "cell_type": "code",
      "metadata": {
        "id": "c6y7zZSTSkkl"
      },
      "source": [
        "values = [1,2,3,4,5]\r\n",
        "rdd = sc.parallelize(values)"
      ],
      "execution_count": null,
      "outputs": []
    },
    {
      "cell_type": "markdown",
      "metadata": {
        "id": "sN8airWjS00W"
      },
      "source": [
        "Printing all the 5 elements of RDD"
      ]
    },
    {
      "cell_type": "code",
      "metadata": {
        "colab": {
          "base_uri": "https://localhost:8080/"
        },
        "id": "emOJh3taSw8i",
        "outputId": "6931e700-fa0b-4c63-9b21-868d58d8984e"
      },
      "source": [
        " rdd.take(5)"
      ],
      "execution_count": null,
      "outputs": [
        {
          "output_type": "execute_result",
          "data": {
            "text/plain": [
              "[1, 2, 3, 4, 5]"
            ]
          },
          "metadata": {
            "tags": []
          },
          "execution_count": 47
        }
      ]
    },
    {
      "cell_type": "markdown",
      "metadata": {
        "id": "HhukllvuTs0x"
      },
      "source": [
        "Uploading Files to Colab"
      ]
    },
    {
      "cell_type": "code",
      "metadata": {
        "colab": {
          "resources": {
            "http://localhost:8080/nbextensions/google.colab/files.js": {
              "data": "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",
              "ok": true,
              "headers": [
                [
                  "content-type",
                  "application/javascript"
                ]
              ],
              "status": 200,
              "status_text": ""
            }
          },
          "base_uri": "https://localhost:8080/",
          "height": 73
        },
        "id": "N_NoHzjsTr0i",
        "outputId": "44aabee0-eefa-439d-8bd4-1bb43e2b6fb9"
      },
      "source": [
        "from google.colab import files\r\n",
        "uploaded = files.upload()"
      ],
      "execution_count": null,
      "outputs": [
        {
          "output_type": "display_data",
          "data": {
            "text/html": [
              "\n",
              "     <input type=\"file\" id=\"files-21a64a8f-9c3a-4f72-ae3b-8fe9da72f435\" name=\"files[]\" multiple disabled\n",
              "        style=\"border:none\" />\n",
              "     <output id=\"result-21a64a8f-9c3a-4f72-ae3b-8fe9da72f435\">\n",
              "      Upload widget is only available when the cell has been executed in the\n",
              "      current browser session. Please rerun this cell to enable.\n",
              "      </output>\n",
              "      <script src=\"/nbextensions/google.colab/files.js\"></script> "
            ],
            "text/plain": [
              "<IPython.core.display.HTML object>"
            ]
          },
          "metadata": {
            "tags": []
          }
        },
        {
          "output_type": "stream",
          "text": [
            "Saving Spark.txt to Spark.txt\n"
          ],
          "name": "stdout"
        }
      ]
    },
    {
      "cell_type": "markdown",
      "metadata": {
        "id": "wQirAhzaU1Uy"
      },
      "source": [
        "Loading a text file to Spark"
      ]
    },
    {
      "cell_type": "code",
      "metadata": {
        "id": "2YePQ9XcT1W1"
      },
      "source": [
        "rdd = sc.textFile(\"Spark.txt\")"
      ],
      "execution_count": null,
      "outputs": []
    },
    {
      "cell_type": "markdown",
      "metadata": {
        "id": "cXnEkKkrU8OT"
      },
      "source": [
        "Print the rdd data"
      ]
    },
    {
      "cell_type": "code",
      "metadata": {
        "colab": {
          "base_uri": "https://localhost:8080/"
        },
        "id": "6CPSMgCyU7eI",
        "outputId": "f69cfa35-0eeb-4989-ff7c-3ff3e1caf32a"
      },
      "source": [
        "rdd.collect()"
      ],
      "execution_count": null,
      "outputs": [
        {
          "output_type": "execute_result",
          "data": {
            "text/plain": [
              "[\"Hi I'm Trishla \", 'How are you?', 'What are you doin?']"
            ]
          },
          "metadata": {
            "tags": []
          },
          "execution_count": 50
        }
      ]
    },
    {
      "cell_type": "markdown",
      "metadata": {
        "id": "t-XyMsdSVAg0"
      },
      "source": [
        "RDD Persistence"
      ]
    },
    {
      "cell_type": "code",
      "metadata": {
        "colab": {
          "base_uri": "https://localhost:8080/"
        },
        "id": "nIF5KhEzU_zV",
        "outputId": "46c84d12-a836-4200-b2f3-486dce4b10c2"
      },
      "source": [
        "aba = sc.parallelize(range(1, 10000, 2))\r\n",
        "aba.persist()"
      ],
      "execution_count": null,
      "outputs": [
        {
          "output_type": "execute_result",
          "data": {
            "text/plain": [
              "PythonRDD[7] at RDD at PythonRDD.scala:53"
            ]
          },
          "metadata": {
            "tags": []
          },
          "execution_count": 51
        }
      ]
    },
    {
      "cell_type": "markdown",
      "metadata": {
        "id": "1BE1_CXrVMcJ"
      },
      "source": [
        "RDD Caching"
      ]
    },
    {
      "cell_type": "code",
      "metadata": {
        "colab": {
          "base_uri": "https://localhost:8080/"
        },
        "id": "5ZJ0qumuVLlz",
        "outputId": "5b7e67cc-8f89-4940-a42e-f1137a154fb4"
      },
      "source": [
        "textFile = sc.textFile(\"Spark.txt\")\r\n",
        "textFile.cache()"
      ],
      "execution_count": null,
      "outputs": [
        {
          "output_type": "execute_result",
          "data": {
            "text/plain": [
              "Spark.txt MapPartitionsRDD[9] at textFile at NativeMethodAccessorImpl.java:0"
            ]
          },
          "metadata": {
            "tags": []
          },
          "execution_count": 52
        }
      ]
    },
    {
      "cell_type": "markdown",
      "metadata": {
        "id": "ylMPIpy7Vleq"
      },
      "source": [
        "Map"
      ]
    },
    {
      "cell_type": "code",
      "metadata": {
        "colab": {
          "base_uri": "https://localhost:8080/"
        },
        "id": "eSjG7x6kVdA9",
        "outputId": "db3408e7-ade4-4431-e8c5-a34583f569bc"
      },
      "source": [
        "x = sc.parallelize([\"spark\", \"rdd\", \"example\", \"sample\", \"example\"])\r\n",
        "y = x.map(lambda x:(x, 1))\r\n",
        "y.collect()"
      ],
      "execution_count": null,
      "outputs": [
        {
          "output_type": "execute_result",
          "data": {
            "text/plain": [
              "[('spark', 1), ('rdd', 1), ('example', 1), ('sample', 1), ('example', 1)]"
            ]
          },
          "metadata": {
            "tags": []
          },
          "execution_count": 53
        }
      ]
    },
    {
      "cell_type": "markdown",
      "metadata": {
        "id": "cUvFt9H5V2w1"
      },
      "source": [
        "FlatMap"
      ]
    },
    {
      "cell_type": "code",
      "metadata": {
        "colab": {
          "base_uri": "https://localhost:8080/"
        },
        "id": "MfcjwM83V1nj",
        "outputId": "a6545c4a-e509-4f98-c014-9100454a231a"
      },
      "source": [
        "rdd = sc.parallelize([2, 3, 4])\r\n",
        "sorted(rdd.flatMap(lambda x: range(1, x)).collect())"
      ],
      "execution_count": null,
      "outputs": [
        {
          "output_type": "execute_result",
          "data": {
            "text/plain": [
              "[1, 1, 1, 2, 2, 3]"
            ]
          },
          "metadata": {
            "tags": []
          },
          "execution_count": 55
        }
      ]
    },
    {
      "cell_type": "markdown",
      "metadata": {
        "id": "K18e-JQ0WSDK"
      },
      "source": [
        "Filter"
      ]
    },
    {
      "cell_type": "code",
      "metadata": {
        "colab": {
          "base_uri": "https://localhost:8080/"
        },
        "id": "JKPc19xLWNq-",
        "outputId": "0de5aad6-d219-4a40-8ac6-9dac7d594c55"
      },
      "source": [
        "rdd = sc.parallelize([1, 2, 3, 4, 5])\r\n",
        "rdd.filter(lambda x: x%2==0).collect()"
      ],
      "execution_count": null,
      "outputs": [
        {
          "output_type": "execute_result",
          "data": {
            "text/plain": [
              "[2, 4]"
            ]
          },
          "metadata": {
            "tags": []
          },
          "execution_count": 56
        }
      ]
    },
    {
      "cell_type": "markdown",
      "metadata": {
        "id": "89qQg2CVWmu6"
      },
      "source": [
        "Sample1"
      ]
    },
    {
      "cell_type": "code",
      "metadata": {
        "colab": {
          "base_uri": "https://localhost:8080/"
        },
        "id": "AhlLppoHWiJM",
        "outputId": "2470d299-f51e-4c2b-a588-69b4ee095fde"
      },
      "source": [
        "parallel = sc.parallelize(range(9))\r\n",
        "parallel.sample(True, .2).count()"
      ],
      "execution_count": null,
      "outputs": [
        {
          "output_type": "execute_result",
          "data": {
            "text/plain": [
              "1"
            ]
          },
          "metadata": {
            "tags": []
          },
          "execution_count": 58
        }
      ]
    },
    {
      "cell_type": "markdown",
      "metadata": {
        "id": "bi51v5ijW6db"
      },
      "source": [
        "Sample2"
      ]
    },
    {
      "cell_type": "code",
      "metadata": {
        "colab": {
          "base_uri": "https://localhost:8080/"
        },
        "id": "jDLhS78LWv79",
        "outputId": "b0edde58-5e7c-48c4-9347-83a8f0d1a8dd"
      },
      "source": [
        "parallel.sample(False, 1).collect()"
      ],
      "execution_count": null,
      "outputs": [
        {
          "output_type": "execute_result",
          "data": {
            "text/plain": [
              "[0, 1, 2, 3, 4, 5, 6, 7, 8]"
            ]
          },
          "metadata": {
            "tags": []
          },
          "execution_count": 59
        }
      ]
    },
    {
      "cell_type": "markdown",
      "metadata": {
        "id": "Y2jjTnSgXDJf"
      },
      "source": [
        "Union"
      ]
    },
    {
      "cell_type": "code",
      "metadata": {
        "colab": {
          "base_uri": "https://localhost:8080/"
        },
        "id": "rIFCp-1ZXByH",
        "outputId": "3eb54f7a-5f49-4cfc-969d-4c11ff4f89dc"
      },
      "source": [
        "parallel = sc.parallelize(range(1, 9))\r\n",
        "par = sc.parallelize(range(5, 15))\r\n",
        "parallel.union(par).collect()"
      ],
      "execution_count": null,
      "outputs": [
        {
          "output_type": "execute_result",
          "data": {
            "text/plain": [
              "[1, 2, 3, 4, 5, 6, 7, 8, 5, 6, 7, 8, 9, 10, 11, 12, 13, 14]"
            ]
          },
          "metadata": {
            "tags": []
          },
          "execution_count": 60
        }
      ]
    },
    {
      "cell_type": "markdown",
      "metadata": {
        "id": "yX8dKufAbzkg"
      },
      "source": [
        "Intersection"
      ]
    },
    {
      "cell_type": "code",
      "metadata": {
        "colab": {
          "base_uri": "https://localhost:8080/"
        },
        "id": "WGh8SZcxbyMv",
        "outputId": "f6be111e-7e19-41a6-e8a4-b53c8c4a9de0"
      },
      "source": [
        "parallel = sc.parallelize(range(1, 9))\r\n",
        "par = sc.parallelize(range(5, 15))\r\n",
        "parallel.intersection(par).collect()"
      ],
      "execution_count": null,
      "outputs": [
        {
          "output_type": "execute_result",
          "data": {
            "text/plain": [
              "[6, 8, 5, 7]"
            ]
          },
          "metadata": {
            "tags": []
          },
          "execution_count": 61
        }
      ]
    },
    {
      "cell_type": "markdown",
      "metadata": {
        "id": "j1ANcMb-cCjM"
      },
      "source": [
        "Distinct"
      ]
    },
    {
      "cell_type": "code",
      "metadata": {
        "colab": {
          "base_uri": "https://localhost:8080/"
        },
        "id": "01WnTGaXcA1f",
        "outputId": "ea25e9de-b447-4ff8-b542-b597311941a9"
      },
      "source": [
        "parallel = sc.parallelize(range(1, 9))\r\n",
        "par = sc.parallelize(range(5, 15))\r\n",
        "parallel.union(par).distinct().collect()"
      ],
      "execution_count": null,
      "outputs": [
        {
          "output_type": "execute_result",
          "data": {
            "text/plain": [
              "[2, 4, 6, 8, 10, 12, 14, 1, 3, 5, 7, 9, 11, 13]"
            ]
          },
          "metadata": {
            "tags": []
          },
          "execution_count": 62
        }
      ]
    },
    {
      "cell_type": "markdown",
      "metadata": {
        "id": "dn-M8bDDcLUB"
      },
      "source": [
        "SortBy1"
      ]
    },
    {
      "cell_type": "code",
      "metadata": {
        "colab": {
          "base_uri": "https://localhost:8080/"
        },
        "id": "Ge08Q8x7cHiS",
        "outputId": "09c39fa9-37dd-4920-f0fc-f56347378b4c"
      },
      "source": [
        "y = sc.parallelize([5, 7, 1, 3, 2, 1])\r\n",
        "y.sortBy(lambda c: c, True).collect()"
      ],
      "execution_count": null,
      "outputs": [
        {
          "output_type": "execute_result",
          "data": {
            "text/plain": [
              "[1, 1, 2, 3, 5, 7]"
            ]
          },
          "metadata": {
            "tags": []
          },
          "execution_count": 63
        }
      ]
    },
    {
      "cell_type": "markdown",
      "metadata": {
        "id": "Z8YMWX54caUm"
      },
      "source": [
        "SortBy2"
      ]
    },
    {
      "cell_type": "code",
      "metadata": {
        "colab": {
          "base_uri": "https://localhost:8080/"
        },
        "id": "-BMAk4R2cW-E",
        "outputId": "9eaf5c8d-524d-428b-d52b-0c51d1618e22"
      },
      "source": [
        "z = sc.parallelize([(\"H\", 10), (\"A\", 26), (\"Z\", 1), (\"L\", 5)])\r\n",
        "z.sortBy(lambda c: c, False).collect()"
      ],
      "execution_count": null,
      "outputs": [
        {
          "output_type": "execute_result",
          "data": {
            "text/plain": [
              "[('Z', 1), ('L', 5), ('H', 10), ('A', 26)]"
            ]
          },
          "metadata": {
            "tags": []
          },
          "execution_count": 65
        }
      ]
    },
    {
      "cell_type": "markdown",
      "metadata": {
        "id": "Mh3VNmGocyCi"
      },
      "source": [
        "MapPartitions"
      ]
    },
    {
      "cell_type": "code",
      "metadata": {
        "colab": {
          "base_uri": "https://localhost:8080/"
        },
        "id": "z_uxtvfOctue",
        "outputId": "792aea4f-1064-47c0-f18a-72570358c64a"
      },
      "source": [
        "rdd = sc.parallelize([1, 2, 3, 4], 2)\r\n",
        "def f(iterator): yield sum(iterator)\r\n",
        "rdd.mapPartitions(f).collect()"
      ],
      "execution_count": null,
      "outputs": [
        {
          "output_type": "execute_result",
          "data": {
            "text/plain": [
              "[3, 7]"
            ]
          },
          "metadata": {
            "tags": []
          },
          "execution_count": 66
        }
      ]
    },
    {
      "cell_type": "markdown",
      "metadata": {
        "id": "OewjRAj9dGcM"
      },
      "source": [
        "MapPartitions - WithIndex"
      ]
    },
    {
      "cell_type": "code",
      "metadata": {
        "colab": {
          "base_uri": "https://localhost:8080/"
        },
        "id": "EmHHAfOEdFZU",
        "outputId": "d277754b-e0eb-4892-b877-a6f526ae8cfa"
      },
      "source": [
        "rdd = sc.parallelize([1, 2, 3, 4], 4)\r\n",
        "def f(splitIndex, iterator): yield splitIndex\r\n",
        "rdd.mapPartitionsWithIndex(f).sum()"
      ],
      "execution_count": null,
      "outputs": [
        {
          "output_type": "execute_result",
          "data": {
            "text/plain": [
              "6"
            ]
          },
          "metadata": {
            "tags": []
          },
          "execution_count": 67
        }
      ]
    },
    {
      "cell_type": "markdown",
      "metadata": {
        "id": "8u0jB2Mtdan7"
      },
      "source": [
        "GroupBy"
      ]
    },
    {
      "cell_type": "code",
      "metadata": {
        "colab": {
          "base_uri": "https://localhost:8080/"
        },
        "id": "3HqfQKXzdZRg",
        "outputId": "1d20fd21-6892-463c-9ac0-fd8f271f0296"
      },
      "source": [
        "rdd = sc.parallelize([1, 2, 3, 5, 8])\r\n",
        "result = rdd.groupBy(lambda x: x%2).collect()\r\n",
        "sorted([(x, sorted(y)) for (x, y) in result])"
      ],
      "execution_count": null,
      "outputs": [
        {
          "output_type": "execute_result",
          "data": {
            "text/plain": [
              "[(0, [2, 8]), (1, [1, 3, 5])]"
            ]
          },
          "metadata": {
            "tags": []
          },
          "execution_count": 69
        }
      ]
    },
    {
      "cell_type": "markdown",
      "metadata": {
        "id": "aagVCJtAd5kC"
      },
      "source": [
        "KeyBy"
      ]
    },
    {
      "cell_type": "code",
      "metadata": {
        "colab": {
          "base_uri": "https://localhost:8080/"
        },
        "id": "F0fKhoi6d2TK",
        "outputId": "4efbfefc-3a95-42f9-ce37-dce22112826f"
      },
      "source": [
        "x = sc.parallelize(range(0, 3)).keyBy(lambda x: x*x)\r\n",
        "y = sc.parallelize(zip(range(0, 5), range(0, 5)))\r\n",
        "[(x, list(map(list, y))) for x, y in sorted(x.cogroup(y).collect())]"
      ],
      "execution_count": null,
      "outputs": [
        {
          "output_type": "execute_result",
          "data": {
            "text/plain": [
              "[(0, [[0], [0]]),\n",
              " (1, [[1], [1]]),\n",
              " (2, [[], [2]]),\n",
              " (3, [[], [3]]),\n",
              " (4, [[2], [4]])]"
            ]
          },
          "metadata": {
            "tags": []
          },
          "execution_count": 73
        }
      ]
    },
    {
      "cell_type": "markdown",
      "metadata": {
        "id": "hWCrYKRzfCvf"
      },
      "source": [
        "Zip"
      ]
    },
    {
      "cell_type": "code",
      "metadata": {
        "colab": {
          "base_uri": "https://localhost:8080/"
        },
        "id": "Q59EvDZueX_b",
        "outputId": "e08968c7-e9ce-4c51-b5e8-5adf5c42ddcd"
      },
      "source": [
        "x = sc.parallelize(range(0, 5))\r\n",
        "y = sc.parallelize(range(1000, 1005))\r\n",
        "x.zip(y).collect()"
      ],
      "execution_count": null,
      "outputs": [
        {
          "output_type": "execute_result",
          "data": {
            "text/plain": [
              "[(0, 1000), (1, 1001), (2, 1002), (3, 1003), (4, 1004)]"
            ]
          },
          "metadata": {
            "tags": []
          },
          "execution_count": 74
        }
      ]
    },
    {
      "cell_type": "markdown",
      "metadata": {
        "id": "tr19WR3LfRLl"
      },
      "source": [
        "Zip - WithIndex"
      ]
    },
    {
      "cell_type": "code",
      "metadata": {
        "colab": {
          "base_uri": "https://localhost:8080/"
        },
        "id": "6kEan7cXfQmL",
        "outputId": "06b7d34b-f470-439e-a03a-f115767f96a1"
      },
      "source": [
        "sc.parallelize([\"a\", \"b\", \"c\", \"d\"], 3).zipWithIndex().collect()"
      ],
      "execution_count": null,
      "outputs": [
        {
          "output_type": "execute_result",
          "data": {
            "text/plain": [
              "[('a', 0), ('b', 1), ('c', 2), ('d', 3)]"
            ]
          },
          "metadata": {
            "tags": []
          },
          "execution_count": 75
        }
      ]
    },
    {
      "cell_type": "markdown",
      "metadata": {
        "id": "5GhIJ1Agfiw5"
      },
      "source": [
        "Repartition\r\n"
      ]
    },
    {
      "cell_type": "code",
      "metadata": {
        "colab": {
          "base_uri": "https://localhost:8080/"
        },
        "id": "PROhMJdOfh2e",
        "outputId": "9d86107a-0163-434e-9daa-0f49edf20dcb"
      },
      "source": [
        "rdd = sc.parallelize([1, 2, 3, 4, 5, 6, 7], 4)\r\n",
        "sorted(rdd.glom().collect())"
      ],
      "execution_count": null,
      "outputs": [
        {
          "output_type": "execute_result",
          "data": {
            "text/plain": [
              "[[1], [2, 3], [4, 5], [6, 7]]"
            ]
          },
          "metadata": {
            "tags": []
          },
          "execution_count": 76
        }
      ]
    },
    {
      "cell_type": "code",
      "metadata": {
        "colab": {
          "base_uri": "https://localhost:8080/"
        },
        "id": "5fAEc7ZdfuUz",
        "outputId": "918a3149-d28a-4ab1-ba29-5c20437949f5"
      },
      "source": [
        "len(rdd.repartition(2).glom().collect())"
      ],
      "execution_count": null,
      "outputs": [
        {
          "output_type": "execute_result",
          "data": {
            "text/plain": [
              "2"
            ]
          },
          "metadata": {
            "tags": []
          },
          "execution_count": 77
        }
      ]
    },
    {
      "cell_type": "markdown",
      "metadata": {
        "id": "WcDljDjLf3yL"
      },
      "source": [
        "Coalesce"
      ]
    },
    {
      "cell_type": "code",
      "metadata": {
        "colab": {
          "base_uri": "https://localhost:8080/"
        },
        "id": "AULPzB8uf0NP",
        "outputId": "c2dbbeb3-eca1-419c-d4d6-7d5769f4e0b6"
      },
      "source": [
        "sc.parallelize([1, 2, 3, 4, 5], 3).glom().collect()"
      ],
      "execution_count": null,
      "outputs": [
        {
          "output_type": "execute_result",
          "data": {
            "text/plain": [
              "[[1], [2, 3], [4, 5]]"
            ]
          },
          "metadata": {
            "tags": []
          },
          "execution_count": 78
        }
      ]
    },
    {
      "cell_type": "code",
      "metadata": {
        "colab": {
          "base_uri": "https://localhost:8080/"
        },
        "id": "IMAtWUxMjtFo",
        "outputId": "f5ed79c6-47b6-4e04-a009-6d55c9e39976"
      },
      "source": [
        "sc.parallelize([1, 2, 3, 4, 5], 3).coalesce(2).glom().collect()"
      ],
      "execution_count": null,
      "outputs": [
        {
          "output_type": "execute_result",
          "data": {
            "text/plain": [
              "[[1], [2, 3, 4, 5]]"
            ]
          },
          "metadata": {
            "tags": []
          },
          "execution_count": 80
        }
      ]
    },
    {
      "cell_type": "markdown",
      "metadata": {
        "id": "aNJZedKXj5iQ"
      },
      "source": [
        "Reduce"
      ]
    },
    {
      "cell_type": "code",
      "metadata": {
        "colab": {
          "base_uri": "https://localhost:8080/"
        },
        "id": "k1r3PyJbj19d",
        "outputId": "976531fb-ac98-4e77-b37b-cd64afcf0e39"
      },
      "source": [
        "from operator import add\r\n",
        "sc.parallelize([1, 2, 3, 4, 5]).reduce(add)"
      ],
      "execution_count": null,
      "outputs": [
        {
          "output_type": "execute_result",
          "data": {
            "text/plain": [
              "15"
            ]
          },
          "metadata": {
            "tags": []
          },
          "execution_count": 81
        }
      ]
    },
    {
      "cell_type": "code",
      "metadata": {
        "colab": {
          "base_uri": "https://localhost:8080/"
        },
        "id": "24UoBSSDkD6w",
        "outputId": "6561664a-4af8-46c6-e8da-55cad928e9b8"
      },
      "source": [
        "sc.parallelize((2 for _ in range(10))).map(lambda x: 1).cache().reduce(add)"
      ],
      "execution_count": null,
      "outputs": [
        {
          "output_type": "execute_result",
          "data": {
            "text/plain": [
              "10"
            ]
          },
          "metadata": {
            "tags": []
          },
          "execution_count": 82
        }
      ]
    },
    {
      "cell_type": "markdown",
      "metadata": {
        "id": "ESjvv6-ekVzW"
      },
      "source": [
        "First"
      ]
    },
    {
      "cell_type": "code",
      "metadata": {
        "colab": {
          "base_uri": "https://localhost:8080/"
        },
        "id": "yyViM1YGkOZW",
        "outputId": "a38f8479-07bb-4b30-8dab-adb548b06873"
      },
      "source": [
        "sc.parallelize([2, 3, 4]).first()"
      ],
      "execution_count": null,
      "outputs": [
        {
          "output_type": "execute_result",
          "data": {
            "text/plain": [
              "2"
            ]
          },
          "metadata": {
            "tags": []
          },
          "execution_count": 83
        }
      ]
    },
    {
      "cell_type": "markdown",
      "metadata": {
        "id": "NOaoh96nkb-g"
      },
      "source": [
        "TakeOrdered"
      ]
    },
    {
      "cell_type": "code",
      "metadata": {
        "colab": {
          "base_uri": "https://localhost:8080/"
        },
        "id": "rzuS02q0kbHH",
        "outputId": "74e5a0ff-e784-4ce2-c9dd-fa6715e781f0"
      },
      "source": [
        "nums = sc.parallelize([1, 5, 3, 9, 4, 0, 2])\r\n",
        "nums.takeOrdered(5)"
      ],
      "execution_count": null,
      "outputs": [
        {
          "output_type": "execute_result",
          "data": {
            "text/plain": [
              "[0, 1, 2, 3, 4]"
            ]
          },
          "metadata": {
            "tags": []
          },
          "execution_count": 84
        }
      ]
    },
    {
      "cell_type": "markdown",
      "metadata": {
        "id": "BPcfCIFWkp5I"
      },
      "source": [
        "Take\r\n"
      ]
    },
    {
      "cell_type": "code",
      "metadata": {
        "colab": {
          "base_uri": "https://localhost:8080/"
        },
        "id": "BIXxLlaIkmlV",
        "outputId": "c10d83d5-9d13-40eb-eb72-facd332606d8"
      },
      "source": [
        "nums = sc.parallelize([1, 5, 3, 9, 4, 0, 2])\r\n",
        "nums.take(5)"
      ],
      "execution_count": null,
      "outputs": [
        {
          "output_type": "execute_result",
          "data": {
            "text/plain": [
              "[1, 5, 3, 9, 4]"
            ]
          },
          "metadata": {
            "tags": []
          },
          "execution_count": 85
        }
      ]
    },
    {
      "cell_type": "markdown",
      "metadata": {
        "id": "O8tQoB5akvLV"
      },
      "source": [
        "Count"
      ]
    },
    {
      "cell_type": "code",
      "metadata": {
        "colab": {
          "base_uri": "https://localhost:8080/"
        },
        "id": "O-oSSAFckucC",
        "outputId": "d4b2295c-b4c1-462a-c5fc-fc553e88f7c1"
      },
      "source": [
        "nums = sc.parallelize([1, 5, 3, 9, 4, 0, 2])\r\n",
        "nums.count()"
      ],
      "execution_count": null,
      "outputs": [
        {
          "output_type": "execute_result",
          "data": {
            "text/plain": [
              "7"
            ]
          },
          "metadata": {
            "tags": []
          },
          "execution_count": 86
        }
      ]
    },
    {
      "cell_type": "markdown",
      "metadata": {
        "id": "m1JJZ8BIkztN"
      },
      "source": [
        "Collect"
      ]
    },
    {
      "cell_type": "code",
      "metadata": {
        "colab": {
          "base_uri": "https://localhost:8080/"
        },
        "id": "N2zsoZpzkzKJ",
        "outputId": "8c7377f3-128e-43f2-9ec0-2555fe443593"
      },
      "source": [
        "c = sc.parallelize([\"Gun\", \"Cat\", \"Rat\", \"Dog\", \"Gun\", \"Rat\"], 2)\r\n",
        "c.collect()"
      ],
      "execution_count": null,
      "outputs": [
        {
          "output_type": "execute_result",
          "data": {
            "text/plain": [
              "['Gun', 'Cat', 'Rat', 'Dog', 'Gun', 'Rat']"
            ]
          },
          "metadata": {
            "tags": []
          },
          "execution_count": 87
        }
      ]
    },
    {
      "cell_type": "markdown",
      "metadata": {
        "id": "MyrFxqOIlK-l"
      },
      "source": [
        "Distinct"
      ]
    },
    {
      "cell_type": "code",
      "metadata": {
        "colab": {
          "base_uri": "https://localhost:8080/"
        },
        "id": "M32zd6RIlFpw",
        "outputId": "0b98d9fd-226f-4c79-e20c-7ffb439cd513"
      },
      "source": [
        "c = sc.parallelize([\"Gun\", \"Cat\", \"Rat\", \"Dog\", \"Gun\", \"Rat\"], 2)\r\n",
        "c.distinct().collect()"
      ],
      "execution_count": null,
      "outputs": [
        {
          "output_type": "execute_result",
          "data": {
            "text/plain": [
              "['Gun', 'Cat', 'Rat', 'Dog']"
            ]
          },
          "metadata": {
            "tags": []
          },
          "execution_count": 88
        }
      ]
    },
    {
      "cell_type": "markdown",
      "metadata": {
        "id": "lbmV60nilYhM"
      },
      "source": [
        "CollectAsMap"
      ]
    },
    {
      "cell_type": "code",
      "metadata": {
        "colab": {
          "base_uri": "https://localhost:8080/"
        },
        "id": "nOZjewrzlO-n",
        "outputId": "b34b02ed-b936-42df-8492-17967ec5ed88"
      },
      "source": [
        "alphanumerics = sc.parallelize([(1, \"a\"), (2, \"b\"), (3, \"c\")])\r\n",
        "alphanumerics.collectAsMap()"
      ],
      "execution_count": null,
      "outputs": [
        {
          "output_type": "execute_result",
          "data": {
            "text/plain": [
              "{1: 'a', 2: 'b', 3: 'c'}"
            ]
          },
          "metadata": {
            "tags": []
          },
          "execution_count": 89
        }
      ]
    },
    {
      "cell_type": "markdown",
      "metadata": {
        "id": "GRl2i3G6lqHg"
      },
      "source": [
        "SaveAsTextfile"
      ]
    },
    {
      "cell_type": "code",
      "metadata": {
        "id": "ND1RaEXYlpCR"
      },
      "source": [
        "a = sc.parallelize(range(1, 10000), 3)\r\n",
        "a.saveAsTextFile(\"/usr/bin/mydata_ai\")"
      ],
      "execution_count": null,
      "outputs": []
    },
    {
      "cell_type": "code",
      "metadata": {
        "id": "dgEbQtMml4Uh"
      },
      "source": [
        "x = sc.parallelize([1,2,3,4,5,6,6,7,8,9,10,21], 3)\r\n",
        "x.saveAsTextFile(\"/usr/bin/sample3.txt\")"
      ],
      "execution_count": null,
      "outputs": []
    },
    {
      "cell_type": "markdown",
      "metadata": {
        "id": "NlN6K1hEmoC2"
      },
      "source": [
        "Foreach"
      ]
    },
    {
      "cell_type": "code",
      "metadata": {
        "id": "jkXJWgJOmnSz"
      },
      "source": [
        "def f(x): print(x)\r\n",
        "sc.parallelize([1, 2, 3, 4, 5]).foreach(f)"
      ],
      "execution_count": null,
      "outputs": []
    },
    {
      "cell_type": "markdown",
      "metadata": {
        "id": "8L0ZyGItmRIK"
      },
      "source": [
        "Foreach - Partition"
      ]
    },
    {
      "cell_type": "code",
      "metadata": {
        "id": "9WWX9dVOmQZ2"
      },
      "source": [
        "def f(iterator):\r\n",
        "  for x in iterator:\r\n",
        "    print(x)\r\n",
        "  sc.parallelize([1, 2, 3, 4, 5]).foreach()"
      ],
      "execution_count": null,
      "outputs": []
    },
    {
      "cell_type": "markdown",
      "metadata": {
        "id": "OO9wQY25mzW8"
      },
      "source": [
        "Mathematical Actions"
      ]
    },
    {
      "cell_type": "code",
      "metadata": {
        "id": "G44Ax9Phmgw1"
      },
      "source": [
        "numbers = sc.parallelize(range(1, 100))"
      ],
      "execution_count": null,
      "outputs": []
    },
    {
      "cell_type": "code",
      "metadata": {
        "colab": {
          "base_uri": "https://localhost:8080/"
        },
        "id": "YZQIIATcza7c",
        "outputId": "4f9be999-eadc-4181-855b-120c0ccc3c74"
      },
      "source": [
        "numbers.sum()"
      ],
      "execution_count": null,
      "outputs": [
        {
          "output_type": "execute_result",
          "data": {
            "text/plain": [
              "4950"
            ]
          },
          "metadata": {
            "tags": []
          },
          "execution_count": 97
        }
      ]
    },
    {
      "cell_type": "code",
      "metadata": {
        "colab": {
          "base_uri": "https://localhost:8080/"
        },
        "id": "Y4g45iIyzc13",
        "outputId": "a651a58c-670a-49fd-f212-a31ad76a0538"
      },
      "source": [
        "numbers.min()"
      ],
      "execution_count": null,
      "outputs": [
        {
          "output_type": "execute_result",
          "data": {
            "text/plain": [
              "1"
            ]
          },
          "metadata": {
            "tags": []
          },
          "execution_count": 98
        }
      ]
    },
    {
      "cell_type": "code",
      "metadata": {
        "colab": {
          "base_uri": "https://localhost:8080/"
        },
        "id": "R_OyrFJu0HCx",
        "outputId": "e1ab865a-133e-49bb-ab1f-0d796ac9cecf"
      },
      "source": [
        "numbers.variance()"
      ],
      "execution_count": null,
      "outputs": [
        {
          "output_type": "execute_result",
          "data": {
            "text/plain": [
              "816.6666666666666"
            ]
          },
          "metadata": {
            "tags": []
          },
          "execution_count": 99
        }
      ]
    },
    {
      "cell_type": "code",
      "metadata": {
        "colab": {
          "base_uri": "https://localhost:8080/"
        },
        "id": "fGBFs4GJ0JT2",
        "outputId": "f6745957-b40c-4e60-8256-8f354be37a30"
      },
      "source": [
        "numbers.max()"
      ],
      "execution_count": null,
      "outputs": [
        {
          "output_type": "execute_result",
          "data": {
            "text/plain": [
              "99"
            ]
          },
          "metadata": {
            "tags": []
          },
          "execution_count": 100
        }
      ]
    },
    {
      "cell_type": "code",
      "metadata": {
        "colab": {
          "base_uri": "https://localhost:8080/"
        },
        "id": "OeywiOVG0LyO",
        "outputId": "3c550956-0b06-4d83-e183-a5735672beb6"
      },
      "source": [
        "numbers.mean()"
      ],
      "execution_count": null,
      "outputs": [
        {
          "output_type": "execute_result",
          "data": {
            "text/plain": [
              "50.0"
            ]
          },
          "metadata": {
            "tags": []
          },
          "execution_count": 101
        }
      ]
    },
    {
      "cell_type": "code",
      "metadata": {
        "colab": {
          "base_uri": "https://localhost:8080/"
        },
        "id": "yIyUfkFG0Oi0",
        "outputId": "71c9159a-1397-4653-ff1c-8bba1d055e6c"
      },
      "source": [
        "numbers.stdev()"
      ],
      "execution_count": null,
      "outputs": [
        {
          "output_type": "execute_result",
          "data": {
            "text/plain": [
              "28.577380332470412"
            ]
          },
          "metadata": {
            "tags": []
          },
          "execution_count": 102
        }
      ]
    },
    {
      "cell_type": "markdown",
      "metadata": {
        "id": "Tpgs1KX60Uh9"
      },
      "source": [
        "CountByValue\r\n"
      ]
    },
    {
      "cell_type": "code",
      "metadata": {
        "colab": {
          "base_uri": "https://localhost:8080/"
        },
        "id": "lyHQJ0kB0SZv",
        "outputId": "ad5a4263-28c2-44e0-f55f-51491706e8de"
      },
      "source": [
        "a = sc.parallelize([1,2,3,4,5,6,7,8,2,4,2,3,3,3,1,1,1])\r\n",
        "a.countByValue()"
      ],
      "execution_count": null,
      "outputs": [
        {
          "output_type": "execute_result",
          "data": {
            "text/plain": [
              "defaultdict(int, {1: 4, 2: 3, 3: 4, 4: 2, 5: 1, 6: 1, 7: 1, 8: 1})"
            ]
          },
          "metadata": {
            "tags": []
          },
          "execution_count": 103
        }
      ]
    },
    {
      "cell_type": "markdown",
      "metadata": {
        "id": "5pleTNJC0hA7"
      },
      "source": [
        "toDebugString"
      ]
    },
    {
      "cell_type": "code",
      "metadata": {
        "colab": {
          "base_uri": "https://localhost:8080/"
        },
        "id": "6y09EQuo0gBl",
        "outputId": "2de3481d-f4a7-4999-9250-c33af0382180"
      },
      "source": [
        "a = sc.parallelize(range(1, 19), 3)\r\n",
        "b = sc.parallelize(range(1, 13), 3)\r\n",
        "c = a.subtract(b)\r\n",
        "c.toDebugString()"
      ],
      "execution_count": null,
      "outputs": [
        {
          "output_type": "execute_result",
          "data": {
            "text/plain": [
              "b'(6) PythonRDD[166] at RDD at PythonRDD.scala:53 []\\n |  MapPartitionsRDD[165] at mapPartitions at PythonRDD.scala:133 []\\n |  ShuffledRDD[164] at partitionBy at NativeMethodAccessorImpl.java:0 []\\n +-(6) PairwiseRDD[163] at subtract at <ipython-input-105-d303d0f7bae3>:3 []\\n    |  PythonRDD[162] at subtract at <ipython-input-105-d303d0f7bae3>:3 []\\n    |  UnionRDD[161] at union at NativeMethodAccessorImpl.java:0 []\\n    |  PythonRDD[159] at RDD at PythonRDD.scala:53 []\\n    |  ParallelCollectionRDD[157] at readRDDFromFile at PythonRDD.scala:262 []\\n    |  PythonRDD[160] at RDD at PythonRDD.scala:53 []\\n    |  ParallelCollectionRDD[158] at readRDDFromFile at PythonRDD.scala:262 []'"
            ]
          },
          "metadata": {
            "tags": []
          },
          "execution_count": 105
        }
      ]
    },
    {
      "cell_type": "markdown",
      "metadata": {
        "id": "nc-ykcCO03EE"
      },
      "source": [
        "Creating Pair RDDs"
      ]
    },
    {
      "cell_type": "code",
      "metadata": {
        "colab": {
          "base_uri": "https://localhost:8080/"
        },
        "id": "NPtekDnv0vRO",
        "outputId": "d950257c-fd2b-4ffb-bcc6-e1e364ec854c"
      },
      "source": [
        "rdd = sc.parallelize([(\"a1\", \"b1\", \"c1\", \"d1\", \"e1\"), (\"a2\",\"b2\",\"c2\",\"d2\",\"e2\")])\r\n",
        "result = rdd.map(lambda x: (x[0], list(x[1:])))\r\n",
        "result.collect()"
      ],
      "execution_count": null,
      "outputs": [
        {
          "output_type": "execute_result",
          "data": {
            "text/plain": [
              "[('a1', ['b1', 'c1', 'd1', 'e1']), ('a2', ['b2', 'c2', 'd2', 'e2'])]"
            ]
          },
          "metadata": {
            "tags": []
          },
          "execution_count": 106
        }
      ]
    },
    {
      "cell_type": "markdown",
      "metadata": {
        "id": "qU-pwq5Q1a30"
      },
      "source": [
        "WordCount using RDD concepts"
      ]
    },
    {
      "cell_type": "code",
      "metadata": {
        "id": "ERfiTepE1XZf"
      },
      "source": [
        "rdd = sc.textFile(\"Spark.txt\")"
      ],
      "execution_count": null,
      "outputs": []
    },
    {
      "cell_type": "code",
      "metadata": {
        "id": "1NO8UbYg11j2"
      },
      "source": [
        "nonempty_lines = rdd.filter(lambda x: len(x) > 0)"
      ],
      "execution_count": null,
      "outputs": []
    },
    {
      "cell_type": "code",
      "metadata": {
        "id": "6IyZorz_2EO_"
      },
      "source": [
        "words = nonempty_lines.flatMap(lambda x: x.split(' '))"
      ],
      "execution_count": null,
      "outputs": []
    },
    {
      "cell_type": "code",
      "metadata": {
        "id": "n1Bf1PSp2LAZ"
      },
      "source": [
        "wordcount = words.map(lambda x: (x, 1)).reduceByKey(lambda x,y: x+y).map(lambda x:(x[1], x[0])).sortByKey(False)"
      ],
      "execution_count": null,
      "outputs": []
    },
    {
      "cell_type": "code",
      "metadata": {
        "colab": {
          "base_uri": "https://localhost:8080/"
        },
        "id": "crZbDsOp2fJw",
        "outputId": "9b321053-f98a-4bf1-d225-1c41fb553faf"
      },
      "source": [
        "for word in wordcount.collect():\r\n",
        "  print(word)"
      ],
      "execution_count": null,
      "outputs": [
        {
          "output_type": "stream",
          "text": [
            "(2, 'are')\n",
            "(1, 'Hi')\n",
            "(1, \"I'm\")\n",
            "(1, 'Trishla')\n",
            "(1, '')\n",
            "(1, 'How')\n",
            "(1, 'you?')\n",
            "(1, 'What')\n",
            "(1, 'you')\n",
            "(1, 'doin?')\n"
          ],
          "name": "stdout"
        }
      ]
    },
    {
      "cell_type": "code",
      "metadata": {
        "id": "SdJnT0xr2kyP"
      },
      "source": [
        "wordcount.saveAsTextFile(\"/content/Wordcount\")"
      ],
      "execution_count": null,
      "outputs": []
    },
    {
      "cell_type": "markdown",
      "metadata": {
        "id": "b-QB6DOb23T-"
      },
      "source": [
        "Passing Functions to Spark"
      ]
    },
    {
      "cell_type": "code",
      "metadata": {
        "colab": {
          "base_uri": "https://localhost:8080/"
        },
        "id": "k-azMays22oB",
        "outputId": "b391ec47-c431-4ec8-8135-81edaaa34e0c"
      },
      "source": [
        "rdd = sc.parallelize([1,2,3,4,5])\r\n",
        "rdd.map(lambda x: x+2).collect()"
      ],
      "execution_count": null,
      "outputs": [
        {
          "output_type": "execute_result",
          "data": {
            "text/plain": [
              "[3, 4, 5, 6, 7]"
            ]
          },
          "metadata": {
            "tags": []
          },
          "execution_count": 114
        }
      ]
    },
    {
      "cell_type": "markdown",
      "metadata": {
        "id": "kjQ83XdjQMFZ"
      },
      "source": [
        "Anonymous Function (i.e., one with no name)\r\n",
        "- Here this returns a given integer plus 2."
      ]
    },
    {
      "cell_type": "code",
      "metadata": {
        "colab": {
          "base_uri": "https://localhost:8080/"
        },
        "id": "kdhOACBq3Bvy",
        "outputId": "5cf25f86-da7b-48b6-bda6-47ba30c02665"
      },
      "source": [
        "lambda x: x+2"
      ],
      "execution_count": null,
      "outputs": [
        {
          "output_type": "execute_result",
          "data": {
            "text/plain": [
              "<function __main__.<lambda>>"
            ]
          },
          "metadata": {
            "tags": []
          },
          "execution_count": 115
        }
      ]
    }
  ]
}